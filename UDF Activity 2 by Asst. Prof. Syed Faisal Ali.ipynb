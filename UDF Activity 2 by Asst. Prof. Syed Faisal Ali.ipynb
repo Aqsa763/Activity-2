{
 "cells": [
  {
   "cell_type": "markdown",
   "metadata": {},
   "source": [
    "# Python User Define Function Practice Activity - 2 "
   ]
  },
  {
   "cell_type": "markdown",
   "metadata": {},
   "source": [
    "Asst. Prof. Syed Faisal Ali              $\\;\\;\\;\\;\\;\\;$              Programming Fundamentals - FALL 2019 $\\;\\;\\;\\;\\;\\;$ Software Engineering                     $\\;\\;\\;\\;\\;\\;$                   Dated: 27 Nov 2019"
   ]
  },
  {
   "cell_type": "markdown",
   "metadata": {},
   "source": [
    "# Aqsa Naz 19B-033-SE"
   ]
  },
  {
   "cell_type": "markdown",
   "metadata": {},
   "source": [
    "Question 1: Create a function to find the following:\n",
    "If the base of triangle is 3 cm long and its equilateral triangle and the radius of circle is 1.5 cm then find the area of triangle shaded. \n"
   ]
  },
  {
   "cell_type": "code",
   "execution_count": 5,
   "metadata": {},
   "outputs": [
    {
     "name": "stdout",
     "output_type": "stream",
     "text": [
      "Area of Shaded Regoin = 16.31cm³\n"
     ]
    }
   ],
   "source": [
    "from math import pi,sqrt\n",
    "def areas():\n",
    "    base_t=3\n",
    "    radius_c=1.5\n",
    "    height_t=sqrt(3**2-1.5**2)\n",
    "    Area_T=6*(.5*base_t*height_t)\n",
    "    Area_C=pi*radius_c**2\n",
    "    Shaded=Area_T-Area_C\n",
    "    print(\"Area of Shaded Regoin = {0:.{1}f}cm\\u00b3\".format(Shaded,2))\n",
    "areas() \n",
    "#time=12min"
   ]
  },
  {
   "cell_type": "markdown",
   "metadata": {},
   "source": [
    "Question 2: Create a function which can read a dictionary of your family members such as 5 members. \n",
    "1 Abbu, 1 Ammi, 2 Brothers 1 Sister. Now feed this data in dictionary in terms of name and relations.\n",
    "The UDF will ask findrelation() in this you will enter Brother it will return the names of two brothers you have inserted. In case if the relation is not found it will return “Sorry the relation doesn’t exist in your family.” \n"
   ]
  },
  {
   "cell_type": "code",
   "execution_count": 12,
   "metadata": {},
   "outputs": [
    {
     "name": "stdout",
     "output_type": "stream",
     "text": [
      "['awais']\n"
     ]
    }
   ],
   "source": [
    "def findrelation(Relation):\n",
    "    family = {'mother' : ['zaib un nisa'] , 'father' : ['shoukat shaikh'] ,'brother' : ['awais'] , 'sister' : ['isra']  }\n",
    "    if Relation.lower() in family:\n",
    "        print(family.get(Relation.lower()))\n",
    "    else:\n",
    "        print(\"Sorry Relation Does not exist in your family\")\n",
    "findrelation('brother')\n",
    "#time=17min"
   ]
  },
  {
   "cell_type": "markdown",
   "metadata": {},
   "source": [
    "Question 3: Create a function to find the following:\n",
    "If the base of triangle is 5 cm long and its equilateral triangle and the radius of circle is 2.25 cm then find the area of triangle shaded. \n"
   ]
  },
  {
   "cell_type": "markdown",
   "metadata": {},
   "source": [
    "![proj](q3.jpg)"
   ]
  },
  {
   "cell_type": "code",
   "execution_count": 15,
   "metadata": {},
   "outputs": [
    {
     "name": "stdout",
     "output_type": "stream",
     "text": [
      "Area of Shaded Regoin = 15.90cm³\n"
     ]
    }
   ],
   "source": [
    "def area_s():\n",
    "    base_t=5\n",
    "    radius_c=2.25\n",
    "    height_t=sqrt(3**2-1.5**2)\n",
    "    Area_T=6*(.5*base_t*height_t)\n",
    "    Area_C=pi*radius_c**2\n",
    "    print(\"Area of Shaded Regoin = {0:.{1}f}cm\\u00b3\".format(Area_C,2))\n",
    "    \n",
    "area_s()\n",
    "#time=13min"
   ]
  },
  {
   "cell_type": "markdown",
   "metadata": {},
   "source": [
    "Question 4:\n",
    "Create a function that takes a list of random numbers from users and add only those which are even. If all the numbers are odd it will return sorry no even number found.\n"
   ]
  },
  {
   "cell_type": "code",
   "execution_count": 6,
   "metadata": {},
   "outputs": [
    {
     "name": "stdout",
     "output_type": "stream",
     "text": [
      "Enter the Number: 1\n",
      "Sorry no even number found\n",
      "Enter the Number: 2\n",
      "Enter the Number: 4\n",
      "Enter the Number: 3\n",
      "Sorry no even number found\n",
      "Total Sum of Even Numbers Only =  6\n"
     ]
    }
   ],
   "source": [
    "def even():\n",
    "    a=[0,0,0,0,0]\n",
    "    sum=0\n",
    "    for i in range(4):\n",
    "        a[i]=int(input(\"Enter the Number: \"))\n",
    "        if a[i]%2!=0:\n",
    "            print(\"Sorry no even number found\")\n",
    "    for i in a:\n",
    "        if i%2==0:\n",
    "            sum=sum+i\n",
    "    print(\"Total Sum of Even Numbers Only = \",sum)\n",
    "even()\n",
    "#time=11min"
   ]
  },
  {
   "cell_type": "markdown",
   "metadata": {},
   "source": [
    "Question 5:\n",
    "Write a function which can take a list of numbers and it will return sorted list.\n"
   ]
  },
  {
   "cell_type": "code",
   "execution_count": 5,
   "metadata": {},
   "outputs": [
    {
     "name": "stdout",
     "output_type": "stream",
     "text": [
      "Enter the Number : 1\n",
      "Enter the Number : 2\n",
      "Enter the Number : 4\n",
      "Enter the Number : 6\n",
      "[0, 1, 2, 4, 6]\n"
     ]
    }
   ],
   "source": [
    "def sort():\n",
    "    a=[0,0,0,0,0]\n",
    "    sum=0\n",
    "    for i in range(4):\n",
    "        a[i]=int(input(\"Enter the Number : \"))\n",
    "    a.sort()\n",
    "    print(a)\n",
    "sort()\n",
    "#time=4min"
   ]
  },
  {
   "cell_type": "markdown",
   "metadata": {},
   "source": [
    "Question 6:\n",
    "Write a function that will take the radius and return the perimeter and area of circle with 5% increment.\n"
   ]
  },
  {
   "cell_type": "code",
   "execution_count": 1,
   "metadata": {},
   "outputs": [
    {
     "name": "stdout",
     "output_type": "stream",
     "text": [
      "Original Area : 28.27cm² \n",
      "Area with 5% increment : 29.69cm \n",
      "\n",
      "\n",
      "Original Perimeter : 18.85cm² \n",
      "Perimeter with 5% increment : 19.79cm \n"
     ]
    }
   ],
   "source": [
    "from math import pi\n",
    "def increment(r):\n",
    "    AreaO=pi*r**2\n",
    "    PerimeterO=2*pi*r\n",
    "    AreaI=(AreaO/100)*105\n",
    "    PerimeterI=(PerimeterO/100)*105\n",
    "    print(\"Original Area : {0:.{1}f}cm\\u00b2 \".format(AreaO,2))\n",
    "    print(\"Area with 5% increment : {0:.{1}f}cm \".format(AreaI,2))\n",
    "    print(\"\\n\")\n",
    "    print(\"Original Perimeter : {0:.{1}f}cm\\u00b2 \".format(PerimeterO,2))\n",
    "    print(\"Perimeter with 5% increment : {0:.{1}f}cm \".format(PerimeterI,2))\n",
    "increment(3)\n",
    "#time=28min"
   ]
  },
  {
   "cell_type": "markdown",
   "metadata": {},
   "source": [
    "Question 7:\n",
    "Write a function that will take the strings as argument and return number of vowels and consonants.\n"
   ]
  },
  {
   "cell_type": "code",
   "execution_count": 9,
   "metadata": {},
   "outputs": [
    {
     "name": "stdout",
     "output_type": "stream",
     "text": [
      "Enter a String : Aqsa Naz\n",
      "Total Number of Vowels :  3\n",
      "Total Number of Constant :  5\n"
     ]
    }
   ],
   "source": [
    "def c():\n",
    "    total=0\n",
    "    count=0\n",
    "    string=input(\"Enter a String : \")\n",
    "    for i in string:\n",
    "        if i in \"AEIOUaeiou\":\n",
    "            total=total+1\n",
    "        else:\n",
    "            count=count+1\n",
    "    print(\"Total Number of Vowels : \",total)\n",
    "    print(\"Total Number of Constant : \",count)\n",
    "c()\n",
    "#time=8min"
   ]
  },
  {
   "cell_type": "markdown",
   "metadata": {},
   "source": [
    "Question 8:\n",
    "Write a function that will take length and breadth for a rectangle and return perimeter and area of rectangle with 8% increment.\n"
   ]
  },
  {
   "cell_type": "code",
   "execution_count": 4,
   "metadata": {},
   "outputs": [
    {
     "name": "stdout",
     "output_type": "stream",
     "text": [
      "Enter length of Rectangle : 9\n",
      "Enter Bredth of Rectangle : 5\n",
      "Original Area : 45.00cm² \n",
      "Area with 5% increment : 48.60cm \n",
      "\n",
      "\n",
      "Original Perimeter : 28.00cm² \n",
      "Perimeter with 5% increment : 30.24cm \n"
     ]
    }
   ],
   "source": [
    "def increment():\n",
    "    l=int(input(\"Enter length of Rectangle : \"))\n",
    "    b=int(input(\"Enter Bredth of Rectangle : \"))\n",
    "    AreaO=l*b\n",
    "    PerimeterO=2*l+2*b\n",
    "    AreaI=(AreaO/100)*108\n",
    "    PerimeterI=(PerimeterO/100)*108\n",
    "    print(\"Original Area : {0:.{1}f}cm\\u00b2 \".format(AreaO,2))\n",
    "    print(\"Area with 5% increment : {0:.{1}f}cm \".format(AreaI,2))\n",
    "    print(\"\\n\")\n",
    "    print(\"Original Perimeter : {0:.{1}f}cm\\u00b2 \".format(PerimeterO,2))\n",
    "    print(\"Perimeter with 5% increment : {0:.{1}f}cm \".format(PerimeterI,2))\n",
    "increment()\n",
    "#time=18min"
   ]
  },
  {
   "cell_type": "markdown",
   "metadata": {},
   "source": [
    "Question 9:\n",
    "Write a function that can take the numbers in strings. From string find which number is even and which one is odd. Save them in two different lists and generate the result.\n"
   ]
  },
  {
   "cell_type": "code",
   "execution_count": 10,
   "metadata": {},
   "outputs": [
    {
     "name": "stdout",
     "output_type": "stream",
     "text": [
      "Enter a Number : 3\n",
      "Enter a Number : 4\n",
      "Enter a Number : 5\n",
      "Enter a Number : 6\n",
      "Even Numbers :  ['4', '6']\n",
      "Odd Numbers  :  ['3', '5']\n"
     ]
    }
   ],
   "source": [
    "def ev_od():\n",
    "    a=[]\n",
    "    b=[]\n",
    "    for i in range(4):\n",
    "        num=str(input(\"Enter a Number : \"))\n",
    "        if int(num)%2==0:\n",
    "            a.append(num)\n",
    "        else:\n",
    "            b.append(num)\n",
    "    print(\"Even Numbers : \",a)\n",
    "    print(\"Odd Numbers  : \",b)\n",
    "ev_od()\n",
    "#time=13min"
   ]
  },
  {
   "cell_type": "markdown",
   "metadata": {},
   "source": [
    "Question 10:\n",
    "Write a function which will take the string from the user and return how many alphabets have been used in it and which alphabets are missing.\n"
   ]
  },
  {
   "cell_type": "code",
   "execution_count": 1,
   "metadata": {},
   "outputs": [
    {
     "name": "stdout",
     "output_type": "stream",
     "text": [
      "Number of Alphabets Used :  8\n",
      "\n",
      "Aphabets not used \n",
      "['a', 'b', 'c', 'f', 'g', 'i', 'j', 'k', 'm', 'n', 'p', 'q', 's', 't', 'u', 'v', 'x', 'y', 'z']\n"
     ]
    }
   ],
   "source": [
    "def counter(y):\n",
    "    count = 0\n",
    "    x = ['a','b','c','d','e','f','g','h','i','j','k','l','m','n','o','p','q','r','s','t','u','v','w','x','y','z']\n",
    "    y.casefold()\n",
    "    z=['']\n",
    "    for i in y:\n",
    "        if i in x and i not in z: \n",
    "            z.append(i)\n",
    "            x.remove(i)\n",
    "    print(\"Number of Alphabets Used : \" ,len(z))\n",
    "    print(\"\\nAphabets not used \")\n",
    "    print(x)\n",
    "counter('hello world')\n",
    "#time=16min"
   ]
  },
  {
   "cell_type": "markdown",
   "metadata": {},
   "source": [
    "Question 11:\n",
    "Write a function that will take verbs in words and return a list of verbs with continuous tense by adding (ing) at the end of each verb.\n"
   ]
  },
  {
   "cell_type": "code",
   "execution_count": 6,
   "metadata": {},
   "outputs": [
    {
     "name": "stdout",
     "output_type": "stream",
     "text": [
      "Enter verbs : work\n",
      "Enter verbs : make\n",
      "Enter verbs : do\n",
      "Enter verbs : go\n",
      "['working', 'makeing', 'doing', 'going']\n"
     ]
    }
   ],
   "source": [
    "def countinuous():\n",
    "    verb = ['','','','']\n",
    "    y = ['','','','']\n",
    "    for i in range(4):\n",
    "        verb[i] = input(\"Enter verbs : \")\n",
    "    k = 0\n",
    "    for x in verb:\n",
    "        y[k]=x+\"ing\"\n",
    "        k = k+1\n",
    "    print(y)\n",
    "countinuous()\n",
    "#time=12min"
   ]
  },
  {
   "cell_type": "markdown",
   "metadata": {},
   "source": [
    "Question 12:\n",
    "Make a function which can take two radius of circles and find the areas of it and subtract smaller one from larger one and tell the remaining area of circle.\n"
   ]
  },
  {
   "cell_type": "code",
   "execution_count": 17,
   "metadata": {},
   "outputs": [
    {
     "name": "stdout",
     "output_type": "stream",
     "text": [
      "Enter radius  of Circle 1 : 8\n",
      "Enter radius of Circle 2: 9\n",
      "Area of Circle = 201.06cm²\n",
      "Area of Circle = 254.47cm²\n",
      "Subtracting Area of Square from Area of Circle , Remaining Area is 53.41cm²\n"
     ]
    }
   ],
   "source": [
    "from math import pi\n",
    "def RemainingArea():\n",
    "    radius1=eval(input(\"Enter radius  of Circle 1 : \"))\n",
    "    radius2=eval(input(\"Enter radius of Circle 2: \"))\n",
    "    Acircle1=pi*radius1**2\n",
    "    print(\"Area of Circle = {0:.{1}f}cm\\u00b2\".format(Acircle1,2))\n",
    "    Acircle2=pi*radius2**2\n",
    "    print(\"Area of Circle = {0:.{1}f}cm\\u00b2\".format(Acircle2,2))\n",
    "    if Acircle1 > Acircle2 :\n",
    "        Remaining=ACircle1-Acircle2\n",
    "        print(\"Subtracting Area of Circle from Area of Square , Remaining Area is {0:.{1}f}cm\\u00b2\".format(Remaining,2))\n",
    "    elif Acircle2 > Acircle1 :\n",
    "        Remaining=Acircle2-Acircle1\n",
    "        print(\"Subtracting Area of Square from Area of Circle , Remaining Area is {0:.{1}f}cm\\u00b2\".format(Remaining,2))\n",
    "RemainingArea()\n",
    "#time=31min"
   ]
  },
  {
   "cell_type": "markdown",
   "metadata": {},
   "source": [
    "Question 13:\n",
    "Write a function that will take a string and calculate number of Upper case letters and lower case letters.\n"
   ]
  },
  {
   "cell_type": "code",
   "execution_count": 5,
   "metadata": {},
   "outputs": [
    {
     "name": "stdout",
     "output_type": "stream",
     "text": [
      "Enter a String : Aqsa\n",
      "Total Number of Uppercase :  1\n",
      "Total Number of Lowercase :  3\n"
     ]
    }
   ],
   "source": [
    "def count():\n",
    "    total=0\n",
    "    count=0\n",
    "    string=input(\"Enter a String : \")\n",
    "    for i in string:\n",
    "        if i in 'ABCDEFGHIJKLMNOPQRSTUVWXYZ':\n",
    "            total = total+1\n",
    "        else:\n",
    "            if i in 'abcdefghijklmnopqrstuvwxyz':\n",
    "                count = count + 1\n",
    "    print(\"Total Number of Uppercase : \",total)\n",
    "    print(\"Total Number of Lowercase : \",count)\n",
    "count()\n",
    "#time=7min"
   ]
  },
  {
   "cell_type": "markdown",
   "metadata": {},
   "source": [
    "Question 14:\n",
    "Write a function which will take length and breadth of two rectangles. Subtract the smaller rectangle from the larger rectangle and return the area left behind.\n"
   ]
  },
  {
   "cell_type": "code",
   "execution_count": 19,
   "metadata": {},
   "outputs": [
    {
     "name": "stdout",
     "output_type": "stream",
     "text": [
      "Enter Length of Rectangle 1 : 4\n",
      "Enter Bredth of Rectangle 1 : 5\n",
      "Enter Length of Rectangle 2 : 6\n",
      "Enter Bredth of Rectangle 2 : 10\n",
      "Area of larger rectangle subtracted from smaller Rectangle : 40.00cm²\n"
     ]
    }
   ],
   "source": [
    "def area():\n",
    "    l1=eval(input(\"Enter Length of Rectangle 1 : \"))\n",
    "    b1=eval(input(\"Enter Bredth of Rectangle 1 : \"))\n",
    "    l2=eval(input(\"Enter Length of Rectangle 2 : \"))\n",
    "    b2=eval(input(\"Enter Bredth of Rectangle 2 : \"))\n",
    "    area1=l1*b1\n",
    "    area2=l2*b2\n",
    "    if area1 > area2:\n",
    "        Remaining=area1-area2\n",
    "        print(\"Area of larger rectangle subtracted from smaller Rectangle : {0:.{1}f}cm\\u00b2\".format(Remaining,2))\n",
    "    if area2 > area1:\n",
    "        Remaining=area2-area1\n",
    "        print(\"Area of larger rectangle subtracted from smaller Rectangle : {0:.{1}f}cm\\u00b2\".format(Remaining,2))  \n",
    "area()   \n",
    "#time=12min"
   ]
  },
  {
   "cell_type": "markdown",
   "metadata": {},
   "source": [
    "Question 15:\n",
    "Create a function that can add the fractions in series such as 1 to 8 = 1/8+1/7+1/6+1/5 …… ½ and return the result in fraction not in decimal.\n"
   ]
  },
  {
   "cell_type": "code",
   "execution_count": 8,
   "metadata": {},
   "outputs": [
    {
     "name": "stdout",
     "output_type": "stream",
     "text": [
      "761/280\n"
     ]
    }
   ],
   "source": [
    "def add():\n",
    "    from fractions import Fraction\n",
    "    sum=0\n",
    "    for i in range(1,9):\n",
    "        sum=sum+Fraction(1,i)    \n",
    "    print(sum)\n",
    "add()\n",
    "#time=9min"
   ]
  },
  {
   "cell_type": "markdown",
   "metadata": {},
   "source": [
    "Question 16:\n",
    "Write a function which will take height and base for a triangle and \n"
   ]
  },
  {
   "cell_type": "code",
   "execution_count": 2,
   "metadata": {},
   "outputs": [
    {
     "name": "stdout",
     "output_type": "stream",
     "text": [
      "enter the height: 5\n",
      "enter the base: 4\n",
      "5\n",
      "4\n"
     ]
    }
   ],
   "source": [
    "def triangle():\n",
    "    h=int(input(\"enter the height: \"))\n",
    "    b=int(input(\"enter the base: \"))\n",
    "    print(h)\n",
    "    print(b)\n",
    "triangle()\n",
    "#time=3min"
   ]
  },
  {
   "cell_type": "markdown",
   "metadata": {},
   "source": [
    "Question 17:\n",
    "Write a function which will take a list of fruits names. The function will return how many alphabets are repetitive in the names of fruits and how many are unique letters.\n"
   ]
  },
  {
   "cell_type": "code",
   "execution_count": 10,
   "metadata": {},
   "outputs": [
    {
     "name": "stdout",
     "output_type": "stream",
     "text": [
      "Enter Fruit Name : apple\n",
      "Enter Fruit Name : banana\n",
      "Enter Fruit Name : mango\n",
      "Number of Unique letter :  3\n",
      "Number of Repetitive Letter :  13\n"
     ]
    }
   ],
   "source": [
    "def counter():\n",
    "    j=[\"\"]\n",
    "    count = 0\n",
    "    total = 0\n",
    "    fruits=[\" \",\" \",\" \"]\n",
    "    for i in range(3):\n",
    "        fruits[i]=input(\"Enter Fruit Name : \")\n",
    "    for i in fruits:\n",
    "        for x in i :\n",
    "            if i in j:\n",
    "                count=count+1 \n",
    "            if i not in j:\n",
    "                j.append(i)\n",
    "                total = total+1 \n",
    "    print(\"Number of Unique letter : \",total)\n",
    "    print(\"Number of Repetitive Letter : \",count)\n",
    "counter()\n",
    "#time=19min"
   ]
  },
  {
   "cell_type": "markdown",
   "metadata": {},
   "source": [
    "Question 18:\n",
    "Write a function that can take square length and radius of circle. Find the area of both and subtract the smallest shape from largest one and return the remaining shape area.\n"
   ]
  },
  {
   "cell_type": "code",
   "execution_count": 21,
   "metadata": {},
   "outputs": [
    {
     "name": "stdout",
     "output_type": "stream",
     "text": [
      "Enter length of square : 6\n",
      "Enter radius of Circle : 7\n",
      "Area of Square=12.00cm²\n",
      "Area of Circle=153.94cm²\n",
      "Subtracting Area of Square from Area of Circle , Remaining Area is 141.94cm²\n"
     ]
    }
   ],
   "source": [
    "from math import pi\n",
    "def Remaining_area():\n",
    "    length=eval(input(\"Enter length of square : \"))\n",
    "    radius=eval(input(\"Enter radius of Circle : \"))\n",
    "    Asquare=2*length\n",
    "    print(\"Area of Square={0:.{1}f}cm\\u00b2\".format(Asquare,2))\n",
    "    Acircle = pi * radius**2\n",
    "    print(\"Area of Circle={0:.{1}f}cm\\u00b2\".format(Acircle,2))\n",
    "    if Asquare > Acircle :\n",
    "        Remaining=Asquare-Acircle\n",
    "        print(\"Subtracting Area of Circle from Area of Square , Remaining Area is {0:.{1}f}cm\\u00b2\".format(Remaining,2))\n",
    "    elif Acircle > Asquare :\n",
    "        Remaining=Acircle-Asquare\n",
    "        print(\"Subtracting Area of Square from Area of Circle , Remaining Area is {0:.{1}f}cm\\u00b2\".format(Remaining,2))\n",
    "Remaining_area()\n",
    "#time=23min"
   ]
  },
  {
   "cell_type": "code",
   "execution_count": null,
   "metadata": {},
   "outputs": [],
   "source": []
  }
 ],
 "metadata": {
  "kernelspec": {
   "display_name": "Python 3",
   "language": "python",
   "name": "python3"
  },
  "language_info": {
   "codemirror_mode": {
    "name": "ipython",
    "version": 3
   },
   "file_extension": ".py",
   "mimetype": "text/x-python",
   "name": "python",
   "nbconvert_exporter": "python",
   "pygments_lexer": "ipython3",
   "version": "3.7.3"
  }
 },
 "nbformat": 4,
 "nbformat_minor": 2
}
